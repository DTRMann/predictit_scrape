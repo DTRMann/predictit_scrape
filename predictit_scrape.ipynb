{
 "cells": [
  {
   "cell_type": "code",
   "execution_count": 1,
   "metadata": {},
   "outputs": [],
   "source": [
    "import urllib3\n",
    "import requests\n",
    "import xml.etree.ElementTree as ET\n",
    "import pandas as pd\n",
    "import sqlite3\n",
    "import apscheduler\n",
    "from apscheduler.schedulers.blocking import BlockingScheduler\n",
    "from datetime import datetime"
   ]
  },
  {
   "cell_type": "code",
   "execution_count": 2,
   "metadata": {},
   "outputs": [],
   "source": [
    "# Pull all predictit market data\n",
    "# Method from: https://www.reddit.com/r/learnpython/comments/45bqln/can_not_grab_webpage_data_and_parse_it_correctly/\n",
    "def get_data(url):\n",
    "    header = {'accept': 'application/xml'}\n",
    "    r = requests.get(url, headers=header)\n",
    "    tree = ET.fromstring(r.content)\n",
    "    return tree"
   ]
  },
  {
   "cell_type": "code",
   "execution_count": 3,
   "metadata": {},
   "outputs": [],
   "source": [
    "def list_markets(ET_object):\n",
    "    for market in ET_object.findall('./Markets/MarketData'):\n",
    "        name = market.find('ShortName').text\n",
    "        ID = market.find('ID').text\n",
    "        print(name)\n",
    "        print('ID: ',ID,'\\n')\n",
    "    return"
   ]
  },
  {
   "cell_type": "code",
   "execution_count": 4,
   "metadata": {},
   "outputs": [],
   "source": [
    "url='https://www.predictit.org/api/marketdata/all/'\n",
    "tree = get_data(url)"
   ]
  },
  {
   "cell_type": "code",
   "execution_count": 5,
   "metadata": {},
   "outputs": [],
   "source": [
    "def query_ID(mkt_ID):\n",
    "    mkt_ID = str(mkt_ID)\n",
    "    # Populate list with all of the IDs\n",
    "    l_IDs = []\n",
    "    for market in tree.findall('./Markets/MarketData'):\n",
    "        name = market.find('ShortName').text\n",
    "        ID_apnd = market.find('ID').text\n",
    "        l_IDs.append(ID_apnd)\n",
    "    if mkt_ID not in l_IDs:\n",
    "        print(\"Ticker not in list.\")\n",
    "        return\n",
    "    else:\n",
    "        url = 'https://www.predictit.org/api/marketdata/markets/' + mkt_ID\n",
    "    mkt_data = get_data(url)\n",
    "    print(url)\n",
    "    print(mkt_data.find('ShortName').text)\n",
    "    return mkt_data    "
   ]
  },
  {
   "cell_type": "code",
   "execution_count": 6,
   "metadata": {},
   "outputs": [],
   "source": [
    "def market_info(ID):\n",
    "    prices = {}\n",
    "    for root in ID.findall('.'):\n",
    "        print(\"ID:\",root.find('ID').text)\n",
    "        name = 'ID'\n",
    "        info = root.find('ID').text\n",
    "        prices[name]=info   \n",
    "        print(\"Name: \",root.find('Name').text)\n",
    "        name = 'Name'\n",
    "        info = root.find('Name').text\n",
    "        prices[name]=info\n",
    "        print(\"Timestamp: \",root.find('TimeStamp').text)\n",
    "        name = 'TimeStamp'\n",
    "        info = root.find('TimeStamp').text\n",
    "        prices[name]=info\n",
    "\n",
    "    for info in ID.findall('./Contracts/MarketContract'):\n",
    "        name = info.find('Name').text\n",
    "        price = info.find('LastTradePrice').text\n",
    "        print(name,':',price)\n",
    "        prices[name]=price\n",
    "    return prices"
   ]
  },
  {
   "cell_type": "code",
   "execution_count": 7,
   "metadata": {},
   "outputs": [],
   "source": [
    "def add_to_db(data_dict): \n",
    "    ID_str = str(data_dict['ID']) + '.db'\n",
    "    con = sqlite3.connect(ID_str)\n",
    "    data_df = pd.DataFrame([data_dict],columns=data_dict.keys())\n",
    "    try:\n",
    "        data_db = pd.read_sql('select * from data', con)\n",
    "    except:\n",
    "        pd.DataFrame.to_sql(data_df,con=con,name='data')\n",
    "        con.commit()\n",
    "        con.close()\n",
    "        return print('Done! Database added.')\n",
    "    data_db = data_db.append(data_df,sort=False)\n",
    "    data_db_push = data_db.drop_duplicates(subset='TimeStamp')\n",
    "    pd.DataFrame.to_sql(data_db_push,con=con,name='data', if_exists='replace',index = False)\n",
    "    con.commit()\n",
    "    con.close()\n",
    "    return print('Done!')"
   ]
  },
  {
   "cell_type": "code",
   "execution_count": 8,
   "metadata": {},
   "outputs": [],
   "source": [
    "# For an individual query\n",
    "def master():\n",
    "    url='https://www.predictit.org/api/marketdata/all/'\n",
    "    tree = get_data(url)\n",
    "    list_markets(tree)\n",
    "    ID = input('What is the ID of the market you want to track')\n",
    "    data = query_ID(ID)\n",
    "    prices = market_info(data)\n",
    "    add_to_db(prices)\n",
    "    return"
   ]
  },
  {
   "cell_type": "code",
   "execution_count": 9,
   "metadata": {},
   "outputs": [],
   "source": [
    "def manual_master(ID):\n",
    "    url='https://www.predictit.org/api/marketdata/all/'\n",
    "    tree = get_data(url)\n",
    "    data = query_ID(ID)\n",
    "    prices = market_info(data)\n",
    "    add_to_db(prices)\n",
    "    return"
   ]
  },
  {
   "cell_type": "code",
   "execution_count": 10,
   "metadata": {},
   "outputs": [],
   "source": [
    "def senate_data_query(ID = '2703'):\n",
    "    url='https://www.predictit.org/api/marketdata/all/'\n",
    "    tree = get_data(url)\n",
    "    data = query_ID(ID)\n",
    "    prices = market_info(data)\n",
    "    add_to_db(prices)\n",
    "    return"
   ]
  },
  {
   "cell_type": "code",
   "execution_count": 11,
   "metadata": {},
   "outputs": [],
   "source": [
    "def house_data_query(ID = '2704'):\n",
    "    url='https://www.predictit.org/api/marketdata/all/'\n",
    "    tree = get_data(url)\n",
    "    data = query_ID(ID)\n",
    "    prices = market_info(data)\n",
    "    add_to_db(prices)\n",
    "    return"
   ]
  },
  {
   "cell_type": "code",
   "execution_count": 12,
   "metadata": {},
   "outputs": [],
   "source": [
    "### Function to regularly run\n",
    "def scheduled_task(function_name):\n",
    "    sched = BlockingScheduler()\n",
    "    sched.add_job(function_name, 'interval', minutes=5, start_date='2018-11-04 12:00:00', end_date='2018-11-08 00:00:00')\n",
    "    sched.start()\n",
    "    return"
   ]
  },
  {
   "cell_type": "code",
   "execution_count": null,
   "metadata": {},
   "outputs": [],
   "source": [
    "scheduled_task(house_data_query)"
   ]
  }
 ],
 "metadata": {
  "kernelspec": {
   "display_name": "Python 3",
   "language": "python",
   "name": "python3"
  },
  "language_info": {
   "codemirror_mode": {
    "name": "ipython",
    "version": 3
   },
   "file_extension": ".py",
   "mimetype": "text/x-python",
   "name": "python",
   "nbconvert_exporter": "python",
   "pygments_lexer": "ipython3",
   "version": "3.6.5"
  }
 },
 "nbformat": 4,
 "nbformat_minor": 2
}
