{
 "cells": [
  {
   "cell_type": "code",
   "execution_count": null,
   "metadata": {},
   "outputs": [],
   "source": [
    "### Data pulled from .csv files\n",
    "'''\n",
    "https://projects.fivethirtyeight.com/congress-model-2018/house_national_forecast.csv\n",
    "\n",
    "https://projects.fivethirtyeight.com/congress-model-2018/house_district_forecast.csv\n",
    "\n",
    "https://projects.fivethirtyeight.com/congress-model-2018/senate_national_forecast.csv\n",
    "\n",
    "https://projects.fivethirtyeight.com/congress-model-2018/senate_seat_forecast.csv '''"
   ]
  },
  {
   "cell_type": "code",
   "execution_count": 1,
   "metadata": {},
   "outputs": [],
   "source": [
    "import pandas as pd\n",
    "import sqlite3"
   ]
  },
  {
   "cell_type": "code",
   "execution_count": 2,
   "metadata": {},
   "outputs": [],
   "source": [
    "def user_choice():\n",
    "    n = 0\n",
    "    while n == 0:\n",
    "        choice = input(\"Which data base would you like up date? Enter \\n \\\n",
    "              '1' For the House forecast \\n \\\n",
    "              '2' For the Senate forecast\\n\")\n",
    "        if choice in str([x+1 for x in range(2)]):\n",
    "            n=1\n",
    "            return choice\n",
    "        else:\n",
    "            print('Wrong input :(')\n",
    "            continue        "
   ]
  },
  {
   "cell_type": "code",
   "execution_count": 3,
   "metadata": {},
   "outputs": [
    {
     "name": "stdout",
     "output_type": "stream",
     "text": [
      "Which data base would you like up date? Enter \n",
      "               '1' For the House forecast \n",
      "               '2' For the Senate forecast\n",
      "2\n"
     ]
    }
   ],
   "source": [
    "choice = user_choice()"
   ]
  },
  {
   "cell_type": "code",
   "execution_count": 5,
   "metadata": {},
   "outputs": [],
   "source": [
    "def pull_data(choice):\n",
    "    if choice == \"1\":    \n",
    "        poll_data = pd.read_csv('https://projects.fivethirtyeight.com/congress-model-2018/house_national_forecast.csv')\n",
    "        elect_type = 'house'\n",
    "    elif choice == \"2\":\n",
    "        poll_data = pd.read_csv('https://projects.fivethirtyeight.com/congress-model-2018/senate_national_forecast.csv')\n",
    "        elect_type = 'senate'\n",
    "    else:\n",
    "        print('The programmer messed up. Sorry. Try re-running.')\n",
    "        return\n",
    "    return poll_data, elect_type      \n",
    "        "
   ]
  },
  {
   "cell_type": "code",
   "execution_count": 21,
   "metadata": {},
   "outputs": [],
   "source": [
    "senate_data,elect_type = pull_data('2')"
   ]
  },
  {
   "cell_type": "code",
   "execution_count": 31,
   "metadata": {},
   "outputs": [],
   "source": [
    "def clean(data):\n",
    "    data = data.drop(['p10_seats','p90_seats','margin','p10_margin','p90_margin'],axis = 1)\n",
    "    data_D = data.query(\"'D' == party\")\n",
    "    data_R = data.query(\"'R' == party\")\n",
    "    data = data_D.merge(data_R, how='inner', on=['forecastdate','state','model'])\n",
    "    data = data.rename(columns = {'win_probability_x':'d_win_prob','mean_seats_x':'d_mean_seats','median_seats_x':'d_med_seats', \\\n",
    "                             'win_probability_y':'r_win_prob','mean_seats_y':'r_mean_seats','median_seats_y':'r_med_seats'})\n",
    "    data = data.drop(['state','party_x','party_y'],axis = 1)\n",
    "    return data\n",
    "    "
   ]
  },
  {
   "cell_type": "code",
   "execution_count": 17,
   "metadata": {},
   "outputs": [],
   "source": [
    "# 'data' is for the dataframe, 'elect_type' indicates whether it is the Senate or House Forecast\n",
    "def add_to_db(data,elect_type): \n",
    "    elect_type_db = str(elect_type) + '.db'\n",
    "    con = sqlite3.connect(elect_type_db)\n",
    "    try:\n",
    "        data_db = pd.read_sql('select * from data', con)\n",
    "    except:\n",
    "        pd.DataFrame.to_sql(data,con=con,name='data')\n",
    "        con.close()\n",
    "        return\n",
    "    data_db = data_db.append(data,sort=False)\n",
    "    data_db_push = data_db.drop_duplicates(subset='TimeStamp')\n",
    "    pd.DataFrame.to_sql(data_db_push,con=con,name='data')\n",
    "    con.close()\n",
    "    return"
   ]
  },
  {
   "cell_type": "code",
   "execution_count": 34,
   "metadata": {},
   "outputs": [],
   "source": [
    "def master():\n",
    "    choice = user_choice()\n",
    "    data,elect_type = pull_data(choice)\n",
    "    data = clean(data)\n",
    "    add_to_db(data,elect_type)\n",
    "    return print(elect_type,'data updated')"
   ]
  },
  {
   "cell_type": "code",
   "execution_count": null,
   "metadata": {},
   "outputs": [],
   "source": []
  }
 ],
 "metadata": {
  "kernelspec": {
   "display_name": "Python 3",
   "language": "python",
   "name": "python3"
  },
  "language_info": {
   "codemirror_mode": {
    "name": "ipython",
    "version": 3
   },
   "file_extension": ".py",
   "mimetype": "text/x-python",
   "name": "python",
   "nbconvert_exporter": "python",
   "pygments_lexer": "ipython3",
   "version": "3.6.5"
  }
 },
 "nbformat": 4,
 "nbformat_minor": 2
}
